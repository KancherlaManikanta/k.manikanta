{
 "cells": [
  {
   "cell_type": "code",
   "execution_count": null,
   "id": "7454ab7f",
   "metadata": {},
   "outputs": [],
   "source": [
    "#break"
   ]
  },
  {
   "cell_type": "code",
   "execution_count": 1,
   "id": "74fa431d",
   "metadata": {},
   "outputs": [
    {
     "name": "stdout",
     "output_type": "stream",
     "text": [
      "0\n",
      "1\n"
     ]
    }
   ],
   "source": [
    "x=0\n",
    "while x<3:\n",
    "    print(x)\n",
    "    if x==1:\n",
    "        break\n",
    "    x=x+1"
   ]
  },
  {
   "cell_type": "code",
   "execution_count": 6,
   "id": "0d120c63",
   "metadata": {},
   "outputs": [],
   "source": [
    "x=0\n",
    "while x<3:\n",
    "   \n",
    "    if x==0:\n",
    "        break\n",
    "    print(x)\n",
    "    x=x+1 #nothing can be printed."
   ]
  },
  {
   "cell_type": "code",
   "execution_count": 7,
   "id": "439a29db",
   "metadata": {},
   "outputs": [
    {
     "name": "stdout",
     "output_type": "stream",
     "text": [
      "0\n",
      "1\n",
      "2\n",
      "3\n",
      "4\n"
     ]
    }
   ],
   "source": [
    "x=0\n",
    "while x<11:\n",
    "    print(x)\n",
    "    if x==4:\n",
    "        break\n",
    "    x=x+1"
   ]
  },
  {
   "cell_type": "code",
   "execution_count": null,
   "id": "5581bc07",
   "metadata": {},
   "outputs": [],
   "source": [
    "#continue"
   ]
  },
  {
   "cell_type": "code",
   "execution_count": 1,
   "id": "975ea62e",
   "metadata": {
    "scrolled": true
   },
   "outputs": [
    {
     "name": "stdout",
     "output_type": "stream",
     "text": [
      "hi\n",
      "bye\n",
      "1\n",
      "hi\n",
      "bye\n",
      "3\n"
     ]
    }
   ],
   "source": [
    "x=0\n",
    "while x<3:\n",
    "    print(\"hi\")\n",
    "    print(\"bye\")\n",
    "    x=x+1\n",
    "    if x==2:\n",
    "        continue\n",
    "    print(x)\n",
    "    x=x+1"
   ]
  },
  {
   "cell_type": "code",
   "execution_count": 2,
   "id": "0edddb91",
   "metadata": {},
   "outputs": [
    {
     "name": "stdout",
     "output_type": "stream",
     "text": [
      "1\n",
      "2\n",
      "4\n"
     ]
    }
   ],
   "source": [
    "x=0\n",
    "while x<4:\n",
    "    x=x+1\n",
    "    if x==3:\n",
    "        continue\n",
    "    print(x)"
   ]
  },
  {
   "cell_type": "code",
   "execution_count": null,
   "id": "3e9aa2ad",
   "metadata": {},
   "outputs": [],
   "source": [
    "#alpabets"
   ]
  },
  {
   "cell_type": "code",
   "execution_count": 1,
   "id": "7e471a8d",
   "metadata": {},
   "outputs": [
    {
     "name": "stdout",
     "output_type": "stream",
     "text": [
      "* * *\n",
      "*   *\n",
      "* * *\n",
      "*   *\n"
     ]
    }
   ],
   "source": [
    "x=0\n",
    "while x<4:\n",
    "    if x==0:\n",
    "        print(\"* * *\")\n",
    "    elif x==1:\n",
    "        print(\"*   *\")\n",
    "    elif x==2:\n",
    "        print(\"* * *\")\n",
    "    elif x==3:\n",
    "        print(\"*   *\")\n",
    "    else:\n",
    "        print(\"*   *\")\n",
    "    x=x+1\n",
    "    "
   ]
  },
  {
   "cell_type": "code",
   "execution_count": 21,
   "id": "12292f3f",
   "metadata": {},
   "outputs": [
    {
     "name": "stdout",
     "output_type": "stream",
     "text": [
      "* * *\n",
      "*    *\n",
      "* *\n",
      "*    *\n",
      "*    *\n",
      "* * *\n",
      "\n"
     ]
    }
   ],
   "source": [
    "x=0\n",
    "while x<7:\n",
    "    if x==0:\n",
    "        print(\"* * *\")\n",
    "    elif x==1:\n",
    "        print(\"*    *\")\n",
    "    elif x==2:\n",
    "        print(\"* *\")\n",
    "    elif x==3:\n",
    "        print(\"*    *\")\n",
    "    elif x==4:\n",
    "        print(\"*    *\")\n",
    "    elif x==5:\n",
    "        print(\"* * *\")\n",
    "    else:\n",
    "        print()\n",
    "    x=x+1"
   ]
  },
  {
   "cell_type": "code",
   "execution_count": 7,
   "id": "04a295fd",
   "metadata": {},
   "outputs": [
    {
     "name": "stdout",
     "output_type": "stream",
     "text": [
      "* * *\n",
      "* \n",
      "* * *\n"
     ]
    }
   ],
   "source": [
    "x=0\n",
    "while x<3:\n",
    "    if x==0:\n",
    "        print(\"* * *\")\n",
    "    elif x==1:\n",
    "        print(\"* \")\n",
    "    elif x==2:\n",
    "        print(\"* * *\")\n",
    "    else:\n",
    "        print(\"*   *\")\n",
    "    x=x+1"
   ]
  },
  {
   "cell_type": "code",
   "execution_count": 23,
   "id": "0048276e",
   "metadata": {},
   "outputs": [
    {
     "name": "stdout",
     "output_type": "stream",
     "text": [
      "* *\n",
      "*  *\n",
      "*  *\n",
      "* *\n"
     ]
    }
   ],
   "source": [
    "x=0\n",
    "while x<4:\n",
    "    if x==0:\n",
    "        print(\"* *\")\n",
    "    elif x==1:\n",
    "        print(\"*  *\")\n",
    "    elif x==2:\n",
    "        print(\"*  *\")\n",
    "    elif x==3:\n",
    "        print(\"* *\")\n",
    "    else:\n",
    "        print()\n",
    "    x=x+1"
   ]
  },
  {
   "cell_type": "code",
   "execution_count": 37,
   "id": "f3d7b324",
   "metadata": {},
   "outputs": [
    {
     "name": "stdout",
     "output_type": "stream",
     "text": [
      "* * *\n",
      "*   \n",
      "* * *\n",
      "*   \n",
      "*   \n",
      "* * *\n"
     ]
    }
   ],
   "source": [
    "x=0\n",
    "while x<6:\n",
    "    if x==0:\n",
    "        print(\"* * *\")\n",
    "    elif x==1:\n",
    "        print(\"*   \")\n",
    "    elif x==2:\n",
    "        print(\"* * *\")\n",
    "    elif x==3:\n",
    "        print(\"*   \")\n",
    "    elif x==4:\n",
    "        print(\"*   \")\n",
    "    elif x==5:\n",
    "        print(\"* * *\")\n",
    "    else:\n",
    "        print()\n",
    "    x=x+1"
   ]
  },
  {
   "cell_type": "code",
   "execution_count": 1,
   "id": "9a335ab6",
   "metadata": {},
   "outputs": [
    {
     "name": "stdout",
     "output_type": "stream",
     "text": [
      "* * *\n",
      "*    \n",
      "* * *\n",
      "*    \n",
      "*    \n"
     ]
    }
   ],
   "source": [
    "x=0\n",
    "while x<5:\n",
    "    if x==0:\n",
    "        print(\"* * *\")\n",
    "    elif x==1:\n",
    "        print(\"*    \")\n",
    "    elif x==2:\n",
    "        print(\"* * *\")\n",
    "    elif x==3:\n",
    "        print(\"*    \")\n",
    "    elif x==4:\n",
    "        print(\"*    \")\n",
    "    else:\n",
    "        print()\n",
    "    x=x+1"
   ]
  },
  {
   "cell_type": "code",
   "execution_count": 7,
   "id": "e077a764",
   "metadata": {},
   "outputs": [
    {
     "name": "stdout",
     "output_type": "stream",
     "text": [
      "* * * * \n",
      "*    \n",
      "*   * * *\n",
      "*   *   *\n",
      "* * *   *\n",
      "\n"
     ]
    }
   ],
   "source": [
    "x=0\n",
    "while x<6:\n",
    "    if x==0:\n",
    "        print(\"* * * * \")\n",
    "    elif x==1:\n",
    "        print(\"*    \")\n",
    "    elif x==2:\n",
    "        print(\"*   * * *\")\n",
    "    elif x==3:\n",
    "        print(\"*   *   *\")\n",
    "    elif x==4:\n",
    "        print(\"* * *   *\")\n",
    "    else:\n",
    "        print()\n",
    "    x=x+1\n",
    "        "
   ]
  },
  {
   "cell_type": "code",
   "execution_count": 8,
   "id": "091671ad",
   "metadata": {},
   "outputs": [
    {
     "name": "stdout",
     "output_type": "stream",
     "text": [
      "*     *\n",
      "*     *\n",
      "* * * *\n",
      "*     *\n",
      "*     *\n"
     ]
    }
   ],
   "source": [
    "x=0\n",
    "while x<5:\n",
    "    if x==0:\n",
    "        print(\"*     *\")\n",
    "    elif x==1:\n",
    "        print(\"*     *\")\n",
    "    elif x==2:\n",
    "        print(\"* * * *\")\n",
    "    elif x==3:\n",
    "        print(\"*     *\")\n",
    "    elif x==4:\n",
    "        print(\"*     *\")\n",
    "    else:\n",
    "        print()\n",
    "    x=x+1"
   ]
  },
  {
   "cell_type": "code",
   "execution_count": 9,
   "id": "d7090877",
   "metadata": {},
   "outputs": [
    {
     "name": "stdout",
     "output_type": "stream",
     "text": [
      "* * * *\n",
      "   *   \n",
      "   *   \n",
      "   *   \n",
      "* * * *\n"
     ]
    }
   ],
   "source": [
    "x=0\n",
    "while x<5:\n",
    "    if x==0:\n",
    "        print(\"* * * *\")\n",
    "    elif x==1:\n",
    "        print(\"   *   \")\n",
    "    elif x==2:\n",
    "        print(\"   *   \")\n",
    "    elif x==3:\n",
    "        print(\"   *   \")\n",
    "    elif x==4:\n",
    "        print(\"* * * *\")\n",
    "    else:\n",
    "        print()\n",
    "    x=x+1"
   ]
  },
  {
   "cell_type": "code",
   "execution_count": 11,
   "id": "8fb25bb9",
   "metadata": {},
   "outputs": [
    {
     "name": "stdout",
     "output_type": "stream",
     "text": [
      "* * * *\n",
      "   *   \n",
      "   *   \n",
      "   *   \n",
      "*  *   \n"
     ]
    }
   ],
   "source": [
    "x=0\n",
    "while x<5:\n",
    "    if x==0:\n",
    "        print(\"* * * *\")\n",
    "    elif x==1:\n",
    "        print(\"   *   \")\n",
    "    elif x==2:\n",
    "        print(\"   *   \")\n",
    "    elif x==3:\n",
    "        print(\"   *   \")\n",
    "    elif x==4:\n",
    "        print(\"*  *   \")\n",
    "    else:\n",
    "        print()\n",
    "    x=x+1"
   ]
  },
  {
   "cell_type": "code",
   "execution_count": 16,
   "id": "d13b7881",
   "metadata": {},
   "outputs": [
    {
     "name": "stdout",
     "output_type": "stream",
     "text": [
      "*      *  \n",
      "*   *     \n",
      "* *       \n",
      "*   *     \n",
      "*      *  \n"
     ]
    }
   ],
   "source": [
    "x=0\n",
    "while x<5:\n",
    "    if x==0:\n",
    "        print(\"*      *  \")\n",
    "    elif x==1:\n",
    "        print(\"*   *     \")\n",
    "    elif x==2:\n",
    "        print(\"* *       \")\n",
    "    elif x==3:\n",
    "        print(\"*   *     \")\n",
    "    elif x==4:\n",
    "        print(\"*      *  \")\n",
    "    else:\n",
    "        print()\n",
    "    x=x+1"
   ]
  },
  {
   "cell_type": "code",
   "execution_count": 17,
   "id": "f8ae9a36",
   "metadata": {},
   "outputs": [
    {
     "name": "stdout",
     "output_type": "stream",
     "text": [
      "*        \n",
      "*        \n",
      "*        \n",
      "*        \n",
      "* * * * *\n"
     ]
    }
   ],
   "source": [
    "x=0\n",
    "while x<5:\n",
    "    if x==0:\n",
    "        print(\"*        \")\n",
    "    elif x==1:\n",
    "        print(\"*        \")\n",
    "    elif x==2:\n",
    "        print(\"*        \")\n",
    "    elif x==3:\n",
    "        print(\"*        \")\n",
    "    elif x==4:\n",
    "        print(\"* * * * *\")\n",
    "    else:\n",
    "        print()\n",
    "    x=x+1"
   ]
  },
  {
   "cell_type": "code",
   "execution_count": 20,
   "id": "eec14473",
   "metadata": {},
   "outputs": [
    {
     "name": "stdout",
     "output_type": "stream",
     "text": [
      "*           *  *\n",
      "*   *     *    *\n",
      "*      *       *\n",
      "*              *\n",
      "*              *\n",
      "*              *\n"
     ]
    }
   ],
   "source": [
    "x=0\n",
    "while x<6:\n",
    "    if x==0:\n",
    "        print(\"*           *  *\")\n",
    "    elif x==1:\n",
    "        print(\"*   *     *    *\")\n",
    "    elif x==2:\n",
    "        print(\"*      *       *\")\n",
    "    elif x==3:\n",
    "        print(\"*              *\")\n",
    "    elif x==4:\n",
    "        print(\"*              *\")\n",
    "    elif x==5:\n",
    "        print(\"*              *\")\n",
    "    else:\n",
    "        print()\n",
    "    x=x+1"
   ]
  },
  {
   "cell_type": "code",
   "execution_count": 21,
   "id": "a6b904a7",
   "metadata": {},
   "outputs": [
    {
     "name": "stdout",
     "output_type": "stream",
     "text": [
      "*                *\n",
      "*   *            *\n",
      "*      *         *\n",
      "*         *      *\n",
      "*            *   *\n",
      "*                *\n"
     ]
    }
   ],
   "source": [
    "x=0\n",
    "while x<6:\n",
    "    if x==0:\n",
    "        print(\"*                *\")\n",
    "    elif x==1:\n",
    "        print(\"*   *            *\")\n",
    "    elif x==2:\n",
    "        print(\"*      *         *\")\n",
    "    elif x==3:\n",
    "        print(\"*         *      *\")\n",
    "    elif x==4:\n",
    "        print(\"*            *   *\")\n",
    "    elif x==5:\n",
    "        print(\"*                *\")\n",
    "    else:\n",
    "        print()\n",
    "    x=x+1"
   ]
  },
  {
   "cell_type": "code",
   "execution_count": 35,
   "id": "75f5905a",
   "metadata": {},
   "outputs": [
    {
     "name": "stdout",
     "output_type": "stream",
     "text": [
      " *   *   *   \n",
      "*          *\n",
      "*          *\n",
      " *   *   *    \n"
     ]
    }
   ],
   "source": [
    "x=0\n",
    "while x<4:\n",
    "    if x==0:\n",
    "        print(\" *   *   *   \")\n",
    "    elif x==1:\n",
    "        print(\"*          *\")\n",
    "    elif x==2:\n",
    "        print(\"*          *\")\n",
    "    elif x==3:\n",
    "        print(\" *   *   *    \")\n",
    "    else:\n",
    "        print()\n",
    "    x=x+1"
   ]
  },
  {
   "cell_type": "code",
   "execution_count": 40,
   "id": "5baf0dd7",
   "metadata": {},
   "outputs": [
    {
     "name": "stdout",
     "output_type": "stream",
     "text": [
      "*   *   *     \n",
      "*        *    \n",
      "*  *   *      \n",
      "*             \n",
      "*             \n"
     ]
    }
   ],
   "source": [
    "x=0\n",
    "while x<5:\n",
    "    if x==0:\n",
    "        print(\"*   *   *     \")\n",
    "    elif x==1:\n",
    "        print(\"*        *    \")\n",
    "    elif x==2:\n",
    "        print(\"*  *   *      \")\n",
    "    elif x==3:\n",
    "        print(\"*             \")  \n",
    "    elif x==4:\n",
    "        print(\"*             \")\n",
    "    elif x==4:\n",
    "        print(\"*             \")\n",
    "    else:\n",
    "        print()\n",
    "    x=x+1"
   ]
  },
  {
   "cell_type": "code",
   "execution_count": 59,
   "id": "1d9d5cd1",
   "metadata": {},
   "outputs": [
    {
     "name": "stdout",
     "output_type": "stream",
     "text": [
      "   *    *   *         \n",
      "*             *       \n",
      "*       *      *      \n",
      "*             *       \n",
      "   *      *      *      \n",
      "                     * \n"
     ]
    }
   ],
   "source": [
    "x=0\n",
    "while x<6:\n",
    "    if x==0:\n",
    "        print(\"   *    *   *         \")\n",
    "    elif x==1:\n",
    "        print(\"*             *       \")\n",
    "    elif x==2:\n",
    "        print(\"*       *      *      \")\n",
    "    elif x==3:\n",
    "        print(\"*             *       \")  \n",
    "    elif x==4:\n",
    "        print(\"   *      *      *      \")  \n",
    "    elif x==5:\n",
    "        print(\"                     * \")  \n",
    "    else:\n",
    "        print()\n",
    "    x=x+1"
   ]
  },
  {
   "cell_type": "code",
   "execution_count": 83,
   "id": "8bbb4a52",
   "metadata": {},
   "outputs": [
    {
     "name": "stdout",
     "output_type": "stream",
     "text": [
      "*  *  *  *  \n",
      "*      *    \n",
      "*   *       \n",
      "*      *    \n",
      "*          *\n"
     ]
    }
   ],
   "source": [
    "x=0\n",
    "while x<5:\n",
    "    if x==0:\n",
    "        print(\"*  *  *  *  \")\n",
    "    elif x==1:\n",
    "        print(\"*      *    \")\n",
    "    elif x==2:\n",
    "        print(\"*   *       \")\n",
    "    elif x==3:\n",
    "        print(\"*      *    \")\n",
    "    elif x==4:\n",
    "        print(\"*          *\")\n",
    "    elif x==5:\n",
    "        print(\"*          *\")\n",
    "    else:\n",
    "        print()\n",
    "    x=x+1"
   ]
  },
  {
   "cell_type": "code",
   "execution_count": 86,
   "id": "d545a263",
   "metadata": {},
   "outputs": [
    {
     "name": "stdout",
     "output_type": "stream",
     "text": [
      "* * * \n",
      "*     \n",
      "* * * \n",
      "    *\n",
      "    *\n",
      "* * *\n"
     ]
    }
   ],
   "source": [
    "x=0\n",
    "while x<6:\n",
    "    if x==0:\n",
    "        print(\"* * * \")\n",
    "    elif x==1:\n",
    "        print(\"*     \")\n",
    "    elif x==2:\n",
    "        print(\"* * * \")\n",
    "    elif x==3:\n",
    "        print(\"    *\")\n",
    "    elif x==4:\n",
    "        print(\"    *\")\n",
    "    elif x==5:\n",
    "        print(\"* * *\")\n",
    "    else:\n",
    "        print()\n",
    "    x=x+1"
   ]
  },
  {
   "cell_type": "code",
   "execution_count": 88,
   "id": "bc49753e",
   "metadata": {},
   "outputs": [
    {
     "name": "stdout",
     "output_type": "stream",
     "text": [
      "* * * *\n",
      "   *   \n",
      "   *   \n",
      "   *   \n",
      "   *   \n"
     ]
    }
   ],
   "source": [
    "x=0\n",
    "while x<5:\n",
    "    if x==0:\n",
    "        print(\"* * * *\")\n",
    "    elif x==1:\n",
    "        print(\"   *   \")\n",
    "    elif x==2:\n",
    "        print(\"   *   \")\n",
    "    elif x==3:\n",
    "        print(\"   *   \")\n",
    "    elif x==4:\n",
    "        print(\"   *   \")\n",
    "    else:\n",
    "        print()\n",
    "    x=x+1"
   ]
  },
  {
   "cell_type": "code",
   "execution_count": 90,
   "id": "d5ee978d",
   "metadata": {},
   "outputs": [
    {
     "name": "stdout",
     "output_type": "stream",
     "text": [
      "*       *  \n",
      "*       * \n",
      "*       * \n",
      "*       * \n",
      "* * * * *  \n"
     ]
    }
   ],
   "source": [
    "x=0\n",
    "while x<5:\n",
    "    if x==0:\n",
    "        print(\"*       *  \")\n",
    "    elif x==1:\n",
    "        print(\"*       * \")\n",
    "    elif x==2:\n",
    "        print(\"*       * \")\n",
    "    elif x==3:\n",
    "        print(\"*       * \")\n",
    "    elif x==4:\n",
    "        print(\"* * * * *  \")\n",
    "    else:\n",
    "        print()\n",
    "    x=x+1"
   ]
  },
  {
   "cell_type": "code",
   "execution_count": 92,
   "id": "48abb324",
   "metadata": {},
   "outputs": [
    {
     "name": "stdout",
     "output_type": "stream",
     "text": [
      "*               *\n",
      "  *           * \n",
      "    *      *    \n",
      "       *        \n",
      "   \n"
     ]
    }
   ],
   "source": [
    "x=0\n",
    "while x<5:\n",
    "    if x==0:\n",
    "        print(\"*               *\")\n",
    "    elif x==1:\n",
    "        print(\"  *           * \")\n",
    "    elif x==2:\n",
    "        print(\"    *      *    \")\n",
    "    elif x==3:\n",
    "        print(\"       *        \")\n",
    "    elif x==4:\n",
    "        print(\"   \")\n",
    "    else:\n",
    "        print()\n",
    "    x=x+1"
   ]
  },
  {
   "cell_type": "code",
   "execution_count": 93,
   "id": "1571f161",
   "metadata": {},
   "outputs": [
    {
     "name": "stdout",
     "output_type": "stream",
     "text": [
      "*              *             *  \n",
      "  *           *   *        *   \n",
      "    *        *      *     *         \n",
      "       *    *        *   *          \n",
      "          *            *             \n"
     ]
    }
   ],
   "source": [
    "x=0\n",
    "while x<5:\n",
    "    if x==0:\n",
    "        print(\"*              *             *  \")\n",
    "    elif x==1:\n",
    "        print(\"  *           *   *        *   \")\n",
    "    elif x==2:\n",
    "        print(\"    *        *      *     *         \")\n",
    "    elif x==3:\n",
    "        print(\"       *    *        *   *          \")\n",
    "    elif x==4:\n",
    "        print(\"          *            *             \")\n",
    "    else:\n",
    "        print()\n",
    "    x=x+1"
   ]
  },
  {
   "cell_type": "code",
   "execution_count": 94,
   "id": "49857668",
   "metadata": {},
   "outputs": [
    {
     "name": "stdout",
     "output_type": "stream",
     "text": [
      "*               *  \n",
      "  *           *    \n",
      "    *      *       \n",
      "       *           \n",
      "   *        *      \n",
      "*                * \n"
     ]
    }
   ],
   "source": [
    "x=0\n",
    "while x<6:\n",
    "    if x==0:\n",
    "        print(\"*               *  \")\n",
    "    elif x==1:\n",
    "        print(\"  *           *    \")\n",
    "    elif x==2:\n",
    "        print(\"    *      *       \")\n",
    "    elif x==3:\n",
    "        print(\"       *           \")\n",
    "    elif x==4:\n",
    "        print(\"   *        *      \")\n",
    "    elif x==5:\n",
    "        print(\"*                * \")\n",
    "    else:\n",
    "        print()\n",
    "    x=x+1"
   ]
  },
  {
   "cell_type": "code",
   "execution_count": 96,
   "id": "8fcd7102",
   "metadata": {},
   "outputs": [
    {
     "name": "stdout",
     "output_type": "stream",
     "text": [
      "*              *\n",
      "  *          * \n",
      "    *     *    \n",
      "       *        \n",
      "       *         \n",
      "       *        \n",
      "       *         \n"
     ]
    }
   ],
   "source": [
    "x=0\n",
    "while x<7:\n",
    "    if x==0:\n",
    "        print(\"*              *\")\n",
    "    elif x==1:\n",
    "        print(\"  *          * \")\n",
    "    elif x==2:\n",
    "        print(\"    *     *    \")\n",
    "    elif x==3:\n",
    "        print(\"       *        \")\n",
    "    elif x==4:\n",
    "        print(\"       *         \")\n",
    "    elif x==5:\n",
    "        print(\"       *        \")\n",
    "    elif x==6:\n",
    "        print(\"       *         \")\n",
    "    else:\n",
    "        print()\n",
    "    x=x+1"
   ]
  },
  {
   "cell_type": "code",
   "execution_count": 97,
   "id": "c898ae58",
   "metadata": {},
   "outputs": [
    {
     "name": "stdout",
     "output_type": "stream",
     "text": [
      "*    *     *      *  \n",
      "             *    \n",
      "          *       \n",
      "       *           \n",
      "   *              \n",
      "*      *     *     * \n"
     ]
    }
   ],
   "source": [
    "x=0\n",
    "while x<6:\n",
    "    if x==0:\n",
    "        print(\"*    *     *      *  \")\n",
    "    elif x==1:\n",
    "        print(\"             *    \")\n",
    "    elif x==2:\n",
    "        print(\"          *       \")\n",
    "    elif x==3:\n",
    "        print(\"       *           \")\n",
    "    elif x==4:\n",
    "        print(\"   *              \")\n",
    "    elif x==5:\n",
    "        print(\"*      *     *     * \")\n",
    "    else:\n",
    "        print()\n",
    "    x=x+1"
   ]
  },
  {
   "cell_type": "code",
   "execution_count": null,
   "id": "5d445ef5",
   "metadata": {},
   "outputs": [],
   "source": []
  }
 ],
 "metadata": {
  "kernelspec": {
   "display_name": "Python 3 (ipykernel)",
   "language": "python",
   "name": "python3"
  },
  "language_info": {
   "codemirror_mode": {
    "name": "ipython",
    "version": 3
   },
   "file_extension": ".py",
   "mimetype": "text/x-python",
   "name": "python",
   "nbconvert_exporter": "python",
   "pygments_lexer": "ipython3",
   "version": "3.9.12"
  }
 },
 "nbformat": 4,
 "nbformat_minor": 5
}
